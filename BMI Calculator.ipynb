{
 "cells": [
  {
   "cell_type": "code",
   "execution_count": 22,
   "id": "9dae6d6e-e9f5-4f7c-a628-77dbfb399896",
   "metadata": {},
   "outputs": [
    {
     "name": "stdin",
     "output_type": "stream",
     "text": [
      "Enter your sweet name:  Venkatesh Perumal\n",
      "How tall you are?. Please enter in inches, if you don't know google it ;-) :  70\n",
      "How much do you weight?. Please enter in pounds, if you don't know google it ;-) :  165\n"
     ]
    },
    {
     "name": "stdout",
     "output_type": "stream",
     "text": [
      "Your BMI is  23.67\n",
      "Venkatesh Perumal, you are normal weight.\n"
     ]
    }
   ],
   "source": [
    "# BMI calculator Project\n",
    "\n",
    "Name= input(\"Enter your sweet name: \")\n",
    "Height = int(input(\"How tall you are?. Please enter in inches, if you don't know google it ;-) : \"))\n",
    "Weight = int(input(\"How much do you weight?. Please enter in pounds, if you don't know google it ;-) : \"))\n",
    "BMI = (Weight * 703) / (Height * Height)\n",
    "print(\"Your BMI is\",round(BMI,2))\n",
    "\n",
    "if BMI>0:\n",
    "    if(BMI<18.5):\n",
    "        print(Name +\", you are underweight.\")\n",
    "    elif (BMI<=24.9):\n",
    "        print(Name +\", you are normal weight.\")\n",
    "    elif (BMI<29.9):\n",
    "        print(Name +\", you are overweight.\")\n",
    "    elif (BMI<34.9):\n",
    "        print(Name +\", you are obese.\")\n",
    "    elif (BMI<39.9):\n",
    "        print(Name +\", you are severely obese.\")\n",
    "    else:\n",
    "        print(Name +\", you are morbidly obese.\")\n",
    "else:\n",
    "    print(\"Enter valid input\")"
   ]
  },
  {
   "cell_type": "code",
   "execution_count": null,
   "id": "c8c38697-d3dd-4291-bb2f-e98425732563",
   "metadata": {},
   "outputs": [],
   "source": []
  },
  {
   "cell_type": "code",
   "execution_count": null,
   "id": "76982a91-4a80-4c50-ab36-b7a53c1e58f5",
   "metadata": {},
   "outputs": [],
   "source": []
  },
  {
   "cell_type": "code",
   "execution_count": null,
   "id": "bc0ed00a-8a0e-42d7-96e7-84eea1d96743",
   "metadata": {},
   "outputs": [],
   "source": []
  },
  {
   "cell_type": "code",
   "execution_count": null,
   "id": "55328838-7d89-4d5a-a482-4c8fdade783a",
   "metadata": {},
   "outputs": [],
   "source": []
  },
  {
   "cell_type": "code",
   "execution_count": null,
   "id": "17890cad-260c-4ef9-8d77-964e761896cc",
   "metadata": {},
   "outputs": [],
   "source": []
  },
  {
   "cell_type": "code",
   "execution_count": null,
   "id": "00c9bdae-3660-4e6b-b592-058b1470756f",
   "metadata": {},
   "outputs": [],
   "source": []
  },
  {
   "cell_type": "code",
   "execution_count": null,
   "id": "eaa538ef-b0b7-438a-b6fe-2d8361053e93",
   "metadata": {},
   "outputs": [],
   "source": []
  },
  {
   "cell_type": "code",
   "execution_count": null,
   "id": "2deb6784-e667-495f-a98f-a348f6e36e99",
   "metadata": {},
   "outputs": [],
   "source": []
  },
  {
   "cell_type": "code",
   "execution_count": null,
   "id": "422ed790-0cf1-4a1e-b3f6-5030eb4101ba",
   "metadata": {},
   "outputs": [],
   "source": []
  },
  {
   "cell_type": "code",
   "execution_count": null,
   "id": "df2c88e6-c33a-4148-9282-abdfa3656186",
   "metadata": {},
   "outputs": [],
   "source": []
  }
 ],
 "metadata": {
  "kernelspec": {
   "display_name": "Python 3 (ipykernel)",
   "language": "python",
   "name": "python3"
  },
  "language_info": {
   "codemirror_mode": {
    "name": "ipython",
    "version": 3
   },
   "file_extension": ".py",
   "mimetype": "text/x-python",
   "name": "python",
   "nbconvert_exporter": "python",
   "pygments_lexer": "ipython3",
   "version": "3.11.7"
  }
 },
 "nbformat": 4,
 "nbformat_minor": 5
}
