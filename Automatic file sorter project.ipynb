{
 "cells": [
  {
   "cell_type": "code",
   "execution_count": 1,
   "id": "607e2698-8e8d-49cd-a6a5-c299ea58c7a2",
   "metadata": {},
   "outputs": [],
   "source": [
    "#Import file from os and to do high level operations on file explorer.\n",
    "import os, shutil"
   ]
  },
  {
   "cell_type": "code",
   "execution_count": 2,
   "id": "27c99f10-8dc3-49c8-a6b2-bbe83c289ac9",
   "metadata": {},
   "outputs": [],
   "source": [
    "#path to the folder.\n",
    "path = r\"C:/Users/user/Desktop/Python Project/\""
   ]
  },
  {
   "cell_type": "code",
   "execution_count": 16,
   "id": "e0ca936d-c6c2-4d7c-abe8-fa99782bdad9",
   "metadata": {},
   "outputs": [],
   "source": [
    "#to check the name and file types in the path.\n",
    "file_name = os.listdir(path)\n",
    "\n",
    "folder = ['Excel files', 'Text files', 'Image files']\n",
    "\n",
    "#To check if the folder is already available if not create it.\n",
    "for loop in range(0,3):\n",
    "    if not os.path.exists(path + folder[loop]):\n",
    "        os.makedirs(path + folder[loop])\n",
    "\n",
    "#To move the selected type of file from one path to another.\n",
    "for file in file_name:\n",
    "    if \".xlsx\" in file and not os.path.exists(path + \"Excel files/\" + file):\n",
    "        shutil.move(path + file, path + \"Excel files/\" + file)\n",
    "    if \".txt\" in file and not os.path.exists(path + \"Excel files/\" + file):\n",
    "        shutil.move(path + file, path + \"Text files/\" + file)\n",
    "    if \".webp\" in file and not os.path.exists(path + \"Image files/\" + file):\n",
    "        shutil.move(path + file, path + \"Image files/\" + file)"
   ]
  }
 ],
 "metadata": {
  "kernelspec": {
   "display_name": "Python 3 (ipykernel)",
   "language": "python",
   "name": "python3"
  },
  "language_info": {
   "codemirror_mode": {
    "name": "ipython",
    "version": 3
   },
   "file_extension": ".py",
   "mimetype": "text/x-python",
   "name": "python",
   "nbconvert_exporter": "python",
   "pygments_lexer": "ipython3",
   "version": "3.11.7"
  }
 },
 "nbformat": 4,
 "nbformat_minor": 5
}
